{
 "cells": [
  {
   "cell_type": "code",
   "execution_count": 4,
   "metadata": {},
   "outputs": [],
   "source": [
    "import pandas as pd\n",
    "import re\n",
    "from konlpy.tag import Okt\n",
    "from collections import Counter\n",
    "\n",
    "import matplotlib\n",
    "import matplotlib.pyplot as plt\n",
    "from matplotlib import font_manager, rc\n",
    "from wordcloud import WordCloud"
   ]
  },
  {
   "cell_type": "code",
   "execution_count": 5,
   "metadata": {},
   "outputs": [
    {
     "data": {
      "text/html": [
       "<div>\n",
       "<style scoped>\n",
       "    .dataframe tbody tr th:only-of-type {\n",
       "        vertical-align: middle;\n",
       "    }\n",
       "\n",
       "    .dataframe tbody tr th {\n",
       "        vertical-align: top;\n",
       "    }\n",
       "\n",
       "    .dataframe thead th {\n",
       "        text-align: right;\n",
       "    }\n",
       "</style>\n",
       "<table border=\"1\" class=\"dataframe\">\n",
       "  <thead>\n",
       "    <tr style=\"text-align: right;\">\n",
       "      <th></th>\n",
       "      <th>월간 검색량</th>\n",
       "    </tr>\n",
       "    <tr>\n",
       "      <th>키워드</th>\n",
       "      <th></th>\n",
       "    </tr>\n",
       "  </thead>\n",
       "  <tbody>\n",
       "    <tr>\n",
       "      <th>주유비어플</th>\n",
       "      <td>30</td>\n",
       "    </tr>\n",
       "    <tr>\n",
       "      <th>차량 유류비 계산</th>\n",
       "      <td>40</td>\n",
       "    </tr>\n",
       "    <tr>\n",
       "      <th>회사유류비</th>\n",
       "      <td>70</td>\n",
       "    </tr>\n",
       "    <tr>\n",
       "      <th>유류단가</th>\n",
       "      <td>660</td>\n",
       "    </tr>\n",
       "    <tr>\n",
       "      <th>유류비 계산</th>\n",
       "      <td>1830</td>\n",
       "    </tr>\n",
       "  </tbody>\n",
       "</table>\n",
       "</div>"
      ],
      "text/plain": [
       "           월간 검색량\n",
       "키워드              \n",
       "주유비어플          30\n",
       "차량 유류비 계산      40\n",
       "회사유류비          70\n",
       "유류단가          660\n",
       "유류비 계산       1830"
      ]
     },
     "execution_count": 5,
     "metadata": {},
     "output_type": "execute_result"
    }
   ],
   "source": [
    "data = pd.read_csv('./data/키워드.csv', index_col=0 ,encoding='utf-8')\n",
    "data.head()"
   ]
  },
  {
   "cell_type": "code",
   "execution_count": 6,
   "metadata": {},
   "outputs": [
    {
     "data": {
      "text/html": [
       "<div>\n",
       "<style scoped>\n",
       "    .dataframe tbody tr th:only-of-type {\n",
       "        vertical-align: middle;\n",
       "    }\n",
       "\n",
       "    .dataframe tbody tr th {\n",
       "        vertical-align: top;\n",
       "    }\n",
       "\n",
       "    .dataframe thead th {\n",
       "        text-align: right;\n",
       "    }\n",
       "</style>\n",
       "<table border=\"1\" class=\"dataframe\">\n",
       "  <thead>\n",
       "    <tr style=\"text-align: right;\">\n",
       "      <th></th>\n",
       "      <th>월간검색량</th>\n",
       "    </tr>\n",
       "    <tr>\n",
       "      <th>키워드</th>\n",
       "      <th></th>\n",
       "    </tr>\n",
       "  </thead>\n",
       "  <tbody>\n",
       "    <tr>\n",
       "      <th>주유비어플</th>\n",
       "      <td>30</td>\n",
       "    </tr>\n",
       "    <tr>\n",
       "      <th>차량 유류비 계산</th>\n",
       "      <td>40</td>\n",
       "    </tr>\n",
       "    <tr>\n",
       "      <th>회사유류비</th>\n",
       "      <td>70</td>\n",
       "    </tr>\n",
       "    <tr>\n",
       "      <th>유류단가</th>\n",
       "      <td>660</td>\n",
       "    </tr>\n",
       "    <tr>\n",
       "      <th>유류비 계산</th>\n",
       "      <td>1830</td>\n",
       "    </tr>\n",
       "  </tbody>\n",
       "</table>\n",
       "</div>"
      ],
      "text/plain": [
       "           월간검색량\n",
       "키워드             \n",
       "주유비어플         30\n",
       "차량 유류비 계산     40\n",
       "회사유류비         70\n",
       "유류단가         660\n",
       "유류비 계산      1830"
      ]
     },
     "execution_count": 6,
     "metadata": {},
     "output_type": "execute_result"
    }
   ],
   "source": [
    "data.rename(columns={'월간 검색량' : '월간검색량'}, inplace=True)\n",
    "data.head()"
   ]
  },
  {
   "cell_type": "code",
   "execution_count": 7,
   "metadata": {},
   "outputs": [
    {
     "name": "stdout",
     "output_type": "stream",
     "text": [
      "<class 'pandas.core.frame.DataFrame'>\n",
      "Index: 35 entries, 주유비어플 to 기름 값 오르는 이유\n",
      "Data columns (total 1 columns):\n",
      " #   Column  Non-Null Count  Dtype\n",
      "---  ------  --------------  -----\n",
      " 0   월간검색량   35 non-null     int64\n",
      "dtypes: int64(1)\n",
      "memory usage: 560.0+ bytes\n"
     ]
    }
   ],
   "source": [
    "data.info()"
   ]
  },
  {
   "cell_type": "code",
   "execution_count": 9,
   "metadata": {},
   "outputs": [
    {
     "data": {
      "text/plain": [
       "{'월간검색량': {'주유비어플': 30,\n",
       "  '차량 유류비 계산': 40,\n",
       "  '회사유류비': 70,\n",
       "  '유류단가': 660,\n",
       "  '유류비 계산': 1830,\n",
       "  '100km 기름값': 170,\n",
       "  '미국 기름값': 1600,\n",
       "  '부산 기름값': 70,\n",
       "  '국내 유가': 3780,\n",
       "  '기름값 계산': 880,\n",
       "  '기름값계산기 네이버': 4360,\n",
       "  '기름값 전망': 1300,\n",
       "  '대구 기름값': 50,\n",
       "  '주유비': 6490,\n",
       "  '유가정보': 6580,\n",
       "  '유류비': 12260,\n",
       "  '기름값 싼곳': 90,\n",
       "  '기름값 계산기': 480,\n",
       "  '기름 값 제일 싼 주유소': 10,\n",
       "  '기름 값 오른 이유': 30,\n",
       "  '기름 값 인상': 140,\n",
       "  '제주도 기름값': 170,\n",
       "  '기름 값 폭등': 170,\n",
       "  '기름 값 상승': 210,\n",
       "  '기름 값 추이': 390,\n",
       "  '기름 값 인하': 880,\n",
       "  '기름 값 오르는 이유': 1900}}"
      ]
     },
     "execution_count": 9,
     "metadata": {},
     "output_type": "execute_result"
    }
   ],
   "source": [
    "data.to_dict()"
   ]
  },
  {
   "cell_type": "code",
   "execution_count": 12,
   "metadata": {},
   "outputs": [
    {
     "name": "stdout",
     "output_type": "stream",
     "text": [
      "<class 'pandas.core.frame.DataFrame'>\n",
      "Index: 35 entries, 주유비어플 to 기름 값 오르는 이유\n",
      "Data columns (total 1 columns):\n",
      " #   Column  Non-Null Count  Dtype\n",
      "---  ------  --------------  -----\n",
      " 0   월간검색량   35 non-null     int64\n",
      "dtypes: int64(1)\n",
      "memory usage: 560.0+ bytes\n"
     ]
    }
   ],
   "source": [
    "data.info()"
   ]
  },
  {
   "cell_type": "code",
   "execution_count": 10,
   "metadata": {},
   "outputs": [],
   "source": [
    "# 한글 폰트 설정\n",
    "font_path = 'C:/Windows/Fonts/Malgun.ttf'  #맑은 폰트명 찾기\n",
    "font_name = font_manager.FontProperties(fname=font_path).get_name()\n",
    "matplotlib.rc('font', family = font_name)"
   ]
  },
  {
   "cell_type": "code",
   "execution_count": 11,
   "metadata": {},
   "outputs": [
    {
     "ename": "TypeError",
     "evalue": "cannot convert the series to <class 'float'>",
     "output_type": "error",
     "traceback": [
      "\u001b[1;31m---------------------------------------------------------------------------\u001b[0m",
      "\u001b[1;31mTypeError\u001b[0m                                 Traceback (most recent call last)",
      "\u001b[1;32mc:\\localRepository\\python\\Busan-Oil-Price-Analysis\\주유소_워드클라우드.ipynb 셀 7\u001b[0m in \u001b[0;36m<cell line: 2>\u001b[1;34m()\u001b[0m\n\u001b[0;32m      <a href='vscode-notebook-cell:/c%3A/localRepository/python/Busan-Oil-Price-Analysis/%EC%A3%BC%EC%9C%A0%EC%86%8C_%EC%9B%8C%EB%93%9C%ED%81%B4%EB%9D%BC%EC%9A%B0%EB%93%9C.ipynb#X10sZmlsZQ%3D%3D?line=0'>1</a>\u001b[0m wc \u001b[39m=\u001b[39m WordCloud(font_path\u001b[39m=\u001b[39mfont_path, background_color\u001b[39m=\u001b[39m\u001b[39m'\u001b[39m\u001b[39m#f5f5f5\u001b[39m\u001b[39m'\u001b[39m, width\u001b[39m=\u001b[39m\u001b[39m1280\u001b[39m, height\u001b[39m=\u001b[39m\u001b[39m760\u001b[39m)\n\u001b[1;32m----> <a href='vscode-notebook-cell:/c%3A/localRepository/python/Busan-Oil-Price-Analysis/%EC%A3%BC%EC%9C%A0%EC%86%8C_%EC%9B%8C%EB%93%9C%ED%81%B4%EB%9D%BC%EC%9A%B0%EB%93%9C.ipynb#X10sZmlsZQ%3D%3D?line=1'>2</a>\u001b[0m cloud \u001b[39m=\u001b[39m wc\u001b[39m.\u001b[39;49mgenerate_from_frequencies(data)\n\u001b[0;32m      <a href='vscode-notebook-cell:/c%3A/localRepository/python/Busan-Oil-Price-Analysis/%EC%A3%BC%EC%9C%A0%EC%86%8C_%EC%9B%8C%EB%93%9C%ED%81%B4%EB%9D%BC%EC%9A%B0%EB%93%9C.ipynb#X10sZmlsZQ%3D%3D?line=3'>4</a>\u001b[0m plt\u001b[39m.\u001b[39mfigure(figsize\u001b[39m=\u001b[39m(\u001b[39m40\u001b[39m,\u001b[39m15\u001b[39m))\n\u001b[0;32m      <a href='vscode-notebook-cell:/c%3A/localRepository/python/Busan-Oil-Price-Analysis/%EC%A3%BC%EC%9C%A0%EC%86%8C_%EC%9B%8C%EB%93%9C%ED%81%B4%EB%9D%BC%EC%9A%B0%EB%93%9C.ipynb#X10sZmlsZQ%3D%3D?line=4'>5</a>\u001b[0m plt\u001b[39m.\u001b[39mimshow(cloud)\n",
      "File \u001b[1;32m~\\AppData\\Local\\Packages\\PythonSoftwareFoundation.Python.3.10_qbz5n2kfra8p0\\LocalCache\\local-packages\\Python310\\site-packages\\wordcloud\\wordcloud.py:415\u001b[0m, in \u001b[0;36mWordCloud.generate_from_frequencies\u001b[1;34m(self, frequencies, max_font_size)\u001b[0m\n\u001b[0;32m    412\u001b[0m frequencies \u001b[39m=\u001b[39m frequencies[:\u001b[39mself\u001b[39m\u001b[39m.\u001b[39mmax_words]\n\u001b[0;32m    414\u001b[0m \u001b[39m# largest entry will be 1\u001b[39;00m\n\u001b[1;32m--> 415\u001b[0m max_frequency \u001b[39m=\u001b[39m \u001b[39mfloat\u001b[39;49m(frequencies[\u001b[39m0\u001b[39;49m][\u001b[39m1\u001b[39;49m])\n\u001b[0;32m    417\u001b[0m frequencies \u001b[39m=\u001b[39m [(word, freq \u001b[39m/\u001b[39m max_frequency)\n\u001b[0;32m    418\u001b[0m                \u001b[39mfor\u001b[39;00m word, freq \u001b[39min\u001b[39;00m frequencies]\n\u001b[0;32m    420\u001b[0m \u001b[39mif\u001b[39;00m \u001b[39mself\u001b[39m\u001b[39m.\u001b[39mrandom_state \u001b[39mis\u001b[39;00m \u001b[39mnot\u001b[39;00m \u001b[39mNone\u001b[39;00m:\n",
      "File \u001b[1;32m~\\AppData\\Local\\Packages\\PythonSoftwareFoundation.Python.3.10_qbz5n2kfra8p0\\LocalCache\\local-packages\\Python310\\site-packages\\pandas\\core\\series.py:191\u001b[0m, in \u001b[0;36m_coerce_method.<locals>.wrapper\u001b[1;34m(self)\u001b[0m\n\u001b[0;32m    189\u001b[0m \u001b[39mif\u001b[39;00m \u001b[39mlen\u001b[39m(\u001b[39mself\u001b[39m) \u001b[39m==\u001b[39m \u001b[39m1\u001b[39m:\n\u001b[0;32m    190\u001b[0m     \u001b[39mreturn\u001b[39;00m converter(\u001b[39mself\u001b[39m\u001b[39m.\u001b[39miloc[\u001b[39m0\u001b[39m])\n\u001b[1;32m--> 191\u001b[0m \u001b[39mraise\u001b[39;00m \u001b[39mTypeError\u001b[39;00m(\u001b[39mf\u001b[39m\u001b[39m\"\u001b[39m\u001b[39mcannot convert the series to \u001b[39m\u001b[39m{\u001b[39;00mconverter\u001b[39m}\u001b[39;00m\u001b[39m\"\u001b[39m)\n",
      "\u001b[1;31mTypeError\u001b[0m: cannot convert the series to <class 'float'>"
     ]
    }
   ],
   "source": [
    "wc = WordCloud(font_path=font_path, background_color='#f5f5f5', width=1280, height=760)\n",
    "cloud = wc.generate_from_frequencies(data)\n",
    "\n",
    "plt.figure(figsize=(40,15))\n",
    "plt.imshow(cloud)\n",
    "plt.axis('off')\n",
    "plt.show()"
   ]
  },
  {
   "cell_type": "code",
   "execution_count": null,
   "metadata": {},
   "outputs": [],
   "source": []
  }
 ],
 "metadata": {
  "kernelspec": {
   "display_name": "Python 3.10.6 64-bit (windows store)",
   "language": "python",
   "name": "python3"
  },
  "language_info": {
   "codemirror_mode": {
    "name": "ipython",
    "version": 3
   },
   "file_extension": ".py",
   "mimetype": "text/x-python",
   "name": "python",
   "nbconvert_exporter": "python",
   "pygments_lexer": "ipython3",
   "version": "3.10.6"
  },
  "orig_nbformat": 4,
  "vscode": {
   "interpreter": {
    "hash": "8bf0d51478355d2251941b3b98616086516a0eddd7c72ee47a3371765770709a"
   }
  }
 },
 "nbformat": 4,
 "nbformat_minor": 2
}
