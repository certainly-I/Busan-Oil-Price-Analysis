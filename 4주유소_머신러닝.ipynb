{
 "cells": [
  {
   "cell_type": "markdown",
   "metadata": {},
   "source": [
    "## 머신러닝 기본 설정"
   ]
  },
  {
   "cell_type": "code",
   "execution_count": 1,
   "metadata": {},
   "outputs": [],
   "source": [
    "# 기본적인 패키지부터 추가\n",
    "import pandas as pd\n",
    "import seaborn as sns\n",
    "import numpy as np\n",
    "import scipy as super\n",
    "import folium\n",
    "import re\n",
    "\n",
    "import matplotlib\n",
    "import matplotlib.pyplot as plt\n",
    "from matplotlib import font_manager, rc\n",
    "\n",
    "from datetime import datetime\n",
    "import time"
   ]
  },
  {
   "cell_type": "code",
   "execution_count": 29,
   "metadata": {},
   "outputs": [],
   "source": [
    "font_path = 'C:/windows/fonts/NanumBarunpenB.ttf'\n",
    "font_name = font_manager.FontProperties(fname=font_path).get_name()\n",
    "rc('font', family=font_name)"
   ]
  },
  {
   "cell_type": "code",
   "execution_count": 30,
   "metadata": {},
   "outputs": [],
   "source": [
    "import pmdarima as pm\n",
    "from pmdarima.model_selection import train_test_split"
   ]
  },
  {
   "cell_type": "markdown",
   "metadata": {},
   "source": [
    "!pip install pmdarima"
   ]
  },
  {
   "cell_type": "code",
   "execution_count": 31,
   "metadata": {},
   "outputs": [
    {
     "data": {
      "text/html": [
       "<div>\n",
       "<style scoped>\n",
       "    .dataframe tbody tr th:only-of-type {\n",
       "        vertical-align: middle;\n",
       "    }\n",
       "\n",
       "    .dataframe tbody tr th {\n",
       "        vertical-align: top;\n",
       "    }\n",
       "\n",
       "    .dataframe thead th {\n",
       "        text-align: right;\n",
       "    }\n",
       "</style>\n",
       "<table border=\"1\" class=\"dataframe\">\n",
       "  <thead>\n",
       "    <tr style=\"text-align: right;\">\n",
       "      <th></th>\n",
       "      <th>일자</th>\n",
       "      <th>원유</th>\n",
       "      <th>휘발유</th>\n",
       "      <th>경유</th>\n",
       "    </tr>\n",
       "  </thead>\n",
       "  <tbody>\n",
       "    <tr>\n",
       "      <th>0</th>\n",
       "      <td>2022-02-14</td>\n",
       "      <td>697.6</td>\n",
       "      <td>1681.6</td>\n",
       "      <td>1513.2</td>\n",
       "    </tr>\n",
       "    <tr>\n",
       "      <th>1</th>\n",
       "      <td>2022-02-15</td>\n",
       "      <td>685.0</td>\n",
       "      <td>1686.4</td>\n",
       "      <td>1517.1</td>\n",
       "    </tr>\n",
       "    <tr>\n",
       "      <th>2</th>\n",
       "      <td>2022-02-16</td>\n",
       "      <td>689.4</td>\n",
       "      <td>1692.5</td>\n",
       "      <td>1522.9</td>\n",
       "    </tr>\n",
       "    <tr>\n",
       "      <th>3</th>\n",
       "      <td>2022-02-17</td>\n",
       "      <td>683.3</td>\n",
       "      <td>1697.0</td>\n",
       "      <td>1529.0</td>\n",
       "    </tr>\n",
       "    <tr>\n",
       "      <th>4</th>\n",
       "      <td>2022-02-18</td>\n",
       "      <td>683.6</td>\n",
       "      <td>1699.5</td>\n",
       "      <td>1532.2</td>\n",
       "    </tr>\n",
       "  </tbody>\n",
       "</table>\n",
       "</div>"
      ],
      "text/plain": [
       "           일자     원유     휘발유      경유\n",
       "0  2022-02-14  697.6  1681.6  1513.2\n",
       "1  2022-02-15  685.0  1686.4  1517.1\n",
       "2  2022-02-16  689.4  1692.5  1522.9\n",
       "3  2022-02-17  683.3  1697.0  1529.0\n",
       "4  2022-02-18  683.6  1699.5  1532.2"
      ]
     },
     "execution_count": 31,
     "metadata": {},
     "output_type": "execute_result"
    }
   ],
   "source": [
    "oil_price = pd.read_csv('./data/유가전처리.csv', encoding='utf-8', sep=',')\n",
    "oil_price.head()"
   ]
  },
  {
   "cell_type": "markdown",
   "metadata": {},
   "source": [
    "#### 시계열 예측 ARIMA\n",
    "##### 휘발유 값 예측하기"
   ]
  },
  {
   "cell_type": "code",
   "execution_count": 32,
   "metadata": {},
   "outputs": [],
   "source": [
    "oil_price['일자'] = pd.to_datetime(oil_price['일자'], format='%Y-%m-%d')"
   ]
  },
  {
   "cell_type": "code",
   "execution_count": 33,
   "metadata": {},
   "outputs": [
    {
     "data": {
      "text/html": [
       "<div>\n",
       "<style scoped>\n",
       "    .dataframe tbody tr th:only-of-type {\n",
       "        vertical-align: middle;\n",
       "    }\n",
       "\n",
       "    .dataframe tbody tr th {\n",
       "        vertical-align: top;\n",
       "    }\n",
       "\n",
       "    .dataframe thead th {\n",
       "        text-align: right;\n",
       "    }\n",
       "</style>\n",
       "<table border=\"1\" class=\"dataframe\">\n",
       "  <thead>\n",
       "    <tr style=\"text-align: right;\">\n",
       "      <th></th>\n",
       "      <th>일자</th>\n",
       "      <th>휘발유</th>\n",
       "    </tr>\n",
       "  </thead>\n",
       "  <tbody>\n",
       "    <tr>\n",
       "      <th>0</th>\n",
       "      <td>2022-02-14</td>\n",
       "      <td>1681.6</td>\n",
       "    </tr>\n",
       "    <tr>\n",
       "      <th>1</th>\n",
       "      <td>2022-02-15</td>\n",
       "      <td>1686.4</td>\n",
       "    </tr>\n",
       "    <tr>\n",
       "      <th>2</th>\n",
       "      <td>2022-02-16</td>\n",
       "      <td>1692.5</td>\n",
       "    </tr>\n",
       "    <tr>\n",
       "      <th>3</th>\n",
       "      <td>2022-02-17</td>\n",
       "      <td>1697.0</td>\n",
       "    </tr>\n",
       "    <tr>\n",
       "      <th>4</th>\n",
       "      <td>2022-02-18</td>\n",
       "      <td>1699.5</td>\n",
       "    </tr>\n",
       "    <tr>\n",
       "      <th>...</th>\n",
       "      <td>...</td>\n",
       "      <td>...</td>\n",
       "    </tr>\n",
       "    <tr>\n",
       "      <th>172</th>\n",
       "      <td>2022-08-05</td>\n",
       "      <td>1831.1</td>\n",
       "    </tr>\n",
       "    <tr>\n",
       "      <th>173</th>\n",
       "      <td>2022-08-06</td>\n",
       "      <td>1825.3</td>\n",
       "    </tr>\n",
       "    <tr>\n",
       "      <th>174</th>\n",
       "      <td>2022-08-07</td>\n",
       "      <td>1823.2</td>\n",
       "    </tr>\n",
       "    <tr>\n",
       "      <th>175</th>\n",
       "      <td>2022-08-08</td>\n",
       "      <td>1813.1</td>\n",
       "    </tr>\n",
       "    <tr>\n",
       "      <th>176</th>\n",
       "      <td>2022-08-09</td>\n",
       "      <td>1803.1</td>\n",
       "    </tr>\n",
       "  </tbody>\n",
       "</table>\n",
       "<p>177 rows × 2 columns</p>\n",
       "</div>"
      ],
      "text/plain": [
       "            일자     휘발유\n",
       "0   2022-02-14  1681.6\n",
       "1   2022-02-15  1686.4\n",
       "2   2022-02-16  1692.5\n",
       "3   2022-02-17  1697.0\n",
       "4   2022-02-18  1699.5\n",
       "..         ...     ...\n",
       "172 2022-08-05  1831.1\n",
       "173 2022-08-06  1825.3\n",
       "174 2022-08-07  1823.2\n",
       "175 2022-08-08  1813.1\n",
       "176 2022-08-09  1803.1\n",
       "\n",
       "[177 rows x 2 columns]"
      ]
     },
     "execution_count": 33,
     "metadata": {},
     "output_type": "execute_result"
    }
   ],
   "source": [
    "gasolin_price = oil_price[['일자', '휘발유']]\n",
    "gasolin_price"
   ]
  },
  {
   "cell_type": "code",
   "execution_count": 34,
   "metadata": {},
   "outputs": [
    {
     "data": {
      "text/html": [
       "<div>\n",
       "<style scoped>\n",
       "    .dataframe tbody tr th:only-of-type {\n",
       "        vertical-align: middle;\n",
       "    }\n",
       "\n",
       "    .dataframe tbody tr th {\n",
       "        vertical-align: top;\n",
       "    }\n",
       "\n",
       "    .dataframe thead th {\n",
       "        text-align: right;\n",
       "    }\n",
       "</style>\n",
       "<table border=\"1\" class=\"dataframe\">\n",
       "  <thead>\n",
       "    <tr style=\"text-align: right;\">\n",
       "      <th></th>\n",
       "      <th>휘발유</th>\n",
       "    </tr>\n",
       "    <tr>\n",
       "      <th>일자</th>\n",
       "      <th></th>\n",
       "    </tr>\n",
       "  </thead>\n",
       "  <tbody>\n",
       "    <tr>\n",
       "      <th>2022-02-14</th>\n",
       "      <td>1681.6</td>\n",
       "    </tr>\n",
       "    <tr>\n",
       "      <th>2022-02-15</th>\n",
       "      <td>1686.4</td>\n",
       "    </tr>\n",
       "    <tr>\n",
       "      <th>2022-02-16</th>\n",
       "      <td>1692.5</td>\n",
       "    </tr>\n",
       "    <tr>\n",
       "      <th>2022-02-17</th>\n",
       "      <td>1697.0</td>\n",
       "    </tr>\n",
       "    <tr>\n",
       "      <th>2022-02-18</th>\n",
       "      <td>1699.5</td>\n",
       "    </tr>\n",
       "    <tr>\n",
       "      <th>...</th>\n",
       "      <td>...</td>\n",
       "    </tr>\n",
       "    <tr>\n",
       "      <th>2022-08-05</th>\n",
       "      <td>1831.1</td>\n",
       "    </tr>\n",
       "    <tr>\n",
       "      <th>2022-08-06</th>\n",
       "      <td>1825.3</td>\n",
       "    </tr>\n",
       "    <tr>\n",
       "      <th>2022-08-07</th>\n",
       "      <td>1823.2</td>\n",
       "    </tr>\n",
       "    <tr>\n",
       "      <th>2022-08-08</th>\n",
       "      <td>1813.1</td>\n",
       "    </tr>\n",
       "    <tr>\n",
       "      <th>2022-08-09</th>\n",
       "      <td>1803.1</td>\n",
       "    </tr>\n",
       "  </tbody>\n",
       "</table>\n",
       "<p>177 rows × 1 columns</p>\n",
       "</div>"
      ],
      "text/plain": [
       "               휘발유\n",
       "일자                \n",
       "2022-02-14  1681.6\n",
       "2022-02-15  1686.4\n",
       "2022-02-16  1692.5\n",
       "2022-02-17  1697.0\n",
       "2022-02-18  1699.5\n",
       "...            ...\n",
       "2022-08-05  1831.1\n",
       "2022-08-06  1825.3\n",
       "2022-08-07  1823.2\n",
       "2022-08-08  1813.1\n",
       "2022-08-09  1803.1\n",
       "\n",
       "[177 rows x 1 columns]"
      ]
     },
     "execution_count": 34,
     "metadata": {},
     "output_type": "execute_result"
    }
   ],
   "source": [
    "gasolin_price.set_index('일자', inplace=True)\n",
    "gasolin_price"
   ]
  },
  {
   "cell_type": "code",
   "execution_count": 35,
   "metadata": {},
   "outputs": [
    {
     "name": "stdout",
     "output_type": "stream",
     "text": [
      "<class 'pandas.core.frame.DataFrame'>\n",
      "DatetimeIndex: 177 entries, 2022-02-14 to 2022-08-09\n",
      "Data columns (total 1 columns):\n",
      " #   Column  Non-Null Count  Dtype  \n",
      "---  ------  --------------  -----  \n",
      " 0   휘발유     177 non-null    float64\n",
      "dtypes: float64(1)\n",
      "memory usage: 2.8 KB\n"
     ]
    }
   ],
   "source": [
    "gasolin_price.info()"
   ]
  },
  {
   "cell_type": "code",
   "execution_count": 36,
   "metadata": {},
   "outputs": [
    {
     "name": "stderr",
     "output_type": "stream",
     "text": [
      "No artists with labels found to put in legend.  Note that artists whose label start with an underscore are ignored when legend() is called with no argument.\n"
     ]
    },
    {
     "data": {
      "image/png": "[encoded data removed]",
      "text/plain": [
       "<Figure size 720x360 with 1 Axes>"
      ]
     },
     "metadata": {
      "needs_background": "light"
     },
     "output_type": "display_data"
    }
   ],
   "source": [
    "plt.figure(figsize=(10,5))\n",
    "plt.plot(gasolin_price)\n",
    "plt.xlabel('일자')\n",
    "plt.ylabel('가격')\n",
    "plt.title('휘발유 가격')\n",
    "plt.legend()\n",
    "plt.show()"
   ]
  },
  {
   "cell_type": "code",
   "execution_count": 37,
   "metadata": {},
   "outputs": [
    {
     "data": {
      "text/plain": [
       "Timestamp('2022-08-09 00:00:00')"
      ]
     },
     "execution_count": 37,
     "metadata": {},
     "output_type": "execute_result"
    }
   ],
   "source": [
    "gasolin_price.index[-1]"
   ]
  },
  {
   "cell_type": "code",
   "execution_count": 38,
   "metadata": {},
   "outputs": [
    {
     "data": {
      "text/plain": [
       "DatetimeIndex(['2022-08-09', '2022-08-10', '2022-08-11', '2022-08-12',\n",
       "               '2022-08-13', '2022-08-14', '2022-08-15', '2022-08-16',\n",
       "               '2022-08-17'],\n",
       "              dtype='datetime64[ns]', freq='D')"
      ]
     },
     "execution_count": 38,
     "metadata": {},
     "output_type": "execute_result"
    }
   ],
   "source": [
    "# 9일 값 예측 날짜 인덱스 df 만들기\n",
    "index_9_days = pd.date_range(gasolin_price.index[-1], freq='D', periods=9, tz=None)\n",
    "index_9_days"
   ]
  },
  {
   "cell_type": "code",
   "execution_count": 39,
   "metadata": {},
   "outputs": [
    {
     "data": {
      "text/html": [
       "<div>\n",
       "<style scoped>\n",
       "    .dataframe tbody tr th:only-of-type {\n",
       "        vertical-align: middle;\n",
       "    }\n",
       "\n",
       "    .dataframe tbody tr th {\n",
       "        vertical-align: top;\n",
       "    }\n",
       "\n",
       "    .dataframe thead th {\n",
       "        text-align: right;\n",
       "    }\n",
       "</style>\n",
       "<table border=\"1\" class=\"dataframe\">\n",
       "  <thead>\n",
       "    <tr style=\"text-align: right;\">\n",
       "      <th></th>\n",
       "      <th>번호</th>\n",
       "      <th>지역</th>\n",
       "      <th>상호</th>\n",
       "      <th>주소</th>\n",
       "      <th>기간</th>\n",
       "      <th>상표</th>\n",
       "      <th>셀프여부</th>\n",
       "      <th>고급휘발유</th>\n",
       "      <th>휘발유</th>\n",
       "      <th>경유</th>\n",
       "      <th>실내등유</th>\n",
       "    </tr>\n",
       "  </thead>\n",
       "  <tbody>\n",
       "    <tr>\n",
       "      <th>0</th>\n",
       "      <td>기준 : 일간(20220810~20220817)</td>\n",
       "      <td>NaN</td>\n",
       "      <td>NaN</td>\n",
       "      <td>NaN</td>\n",
       "      <td>NaN</td>\n",
       "      <td>NaN</td>\n",
       "      <td>NaN</td>\n",
       "      <td>NaN</td>\n",
       "      <td>NaN</td>\n",
       "      <td>NaN</td>\n",
       "      <td>NaN</td>\n",
       "    </tr>\n",
       "    <tr>\n",
       "      <th>1</th>\n",
       "      <td>A0033158</td>\n",
       "      <td>부산 강서구</td>\n",
       "      <td>(주)DJS신항만물류단지주유소</td>\n",
       "      <td>부산 강서구 가락대로 834 (범방동)</td>\n",
       "      <td>20220810.0</td>\n",
       "      <td>S-OIL</td>\n",
       "      <td>셀프</td>\n",
       "      <td>0.0</td>\n",
       "      <td>1778.0</td>\n",
       "      <td>1878.0</td>\n",
       "      <td>0.0</td>\n",
       "    </tr>\n",
       "    <tr>\n",
       "      <th>2</th>\n",
       "      <td>A0033158</td>\n",
       "      <td>부산 강서구</td>\n",
       "      <td>(주)DJS신항만물류단지주유소</td>\n",
       "      <td>부산 강서구 가락대로 834 (범방동)</td>\n",
       "      <td>20220811.0</td>\n",
       "      <td>S-OIL</td>\n",
       "      <td>셀프</td>\n",
       "      <td>0.0</td>\n",
       "      <td>1778.0</td>\n",
       "      <td>1878.0</td>\n",
       "      <td>0.0</td>\n",
       "    </tr>\n",
       "    <tr>\n",
       "      <th>3</th>\n",
       "      <td>A0033158</td>\n",
       "      <td>부산 강서구</td>\n",
       "      <td>(주)DJS신항만물류단지주유소</td>\n",
       "      <td>부산 강서구 가락대로 834 (범방동)</td>\n",
       "      <td>20220812.0</td>\n",
       "      <td>S-OIL</td>\n",
       "      <td>셀프</td>\n",
       "      <td>0.0</td>\n",
       "      <td>1778.0</td>\n",
       "      <td>1878.0</td>\n",
       "      <td>0.0</td>\n",
       "    </tr>\n",
       "    <tr>\n",
       "      <th>4</th>\n",
       "      <td>A0033158</td>\n",
       "      <td>부산 강서구</td>\n",
       "      <td>(주)DJS신항만물류단지주유소</td>\n",
       "      <td>부산 강서구 가락대로 834 (범방동)</td>\n",
       "      <td>20220813.0</td>\n",
       "      <td>S-OIL</td>\n",
       "      <td>셀프</td>\n",
       "      <td>0.0</td>\n",
       "      <td>1758.0</td>\n",
       "      <td>1858.0</td>\n",
       "      <td>0.0</td>\n",
       "    </tr>\n",
       "  </tbody>\n",
       "</table>\n",
       "</div>"
      ],
      "text/plain": [
       "                           번호      지역                상호  \\\n",
       "0  기준 : 일간(20220810~20220817)     NaN               NaN   \n",
       "1                    A0033158  부산 강서구  (주)DJS신항만물류단지주유소   \n",
       "2                    A0033158  부산 강서구  (주)DJS신항만물류단지주유소   \n",
       "3                    A0033158  부산 강서구  (주)DJS신항만물류단지주유소   \n",
       "4                    A0033158  부산 강서구  (주)DJS신항만물류단지주유소   \n",
       "\n",
       "                      주소          기간     상표 셀프여부  고급휘발유     휘발유      경유  실내등유  \n",
       "0                    NaN         NaN    NaN  NaN    NaN     NaN     NaN   NaN  \n",
       "1  부산 강서구 가락대로 834 (범방동)  20220810.0  S-OIL   셀프    0.0  1778.0  1878.0   0.0  \n",
       "2  부산 강서구 가락대로 834 (범방동)  20220811.0  S-OIL   셀프    0.0  1778.0  1878.0   0.0  \n",
       "3  부산 강서구 가락대로 834 (범방동)  20220812.0  S-OIL   셀프    0.0  1778.0  1878.0   0.0  \n",
       "4  부산 강서구 가락대로 834 (범방동)  20220813.0  S-OIL   셀프    0.0  1758.0  1858.0   0.0  "
      ]
     },
     "execution_count": 39,
     "metadata": {},
     "output_type": "execute_result"
    }
   ],
   "source": [
    "cur_oil_price = pd.read_csv('./data/과거_판매가격(주유소)20220810-20220817.csv', encoding='cp949')\n",
    "cur_oil_price.head()"
   ]
  },
  {
   "cell_type": "code",
   "execution_count": 40,
   "metadata": {},
   "outputs": [
    {
     "name": "stdout",
     "output_type": "stream",
     "text": [
      "<class 'pandas.core.frame.DataFrame'>\n",
      "RangeIndex: 3063 entries, 0 to 3062\n",
      "Data columns (total 11 columns):\n",
      " #   Column  Non-Null Count  Dtype         \n",
      "---  ------  --------------  -----         \n",
      " 0   번호      3063 non-null   object        \n",
      " 1   지역      3062 non-null   object        \n",
      " 2   상호      3062 non-null   object        \n",
      " 3   주소      3062 non-null   object        \n",
      " 4   일자      3062 non-null   datetime64[ns]\n",
      " 5   상표      3062 non-null   object        \n",
      " 6   셀프여부    3062 non-null   object        \n",
      " 7   고급휘발유   3062 non-null   float64       \n",
      " 8   휘발유     3062 non-null   float64       \n",
      " 9   경유      3062 non-null   float64       \n",
      " 10  실내등유    3062 non-null   float64       \n",
      "dtypes: datetime64[ns](1), float64(4), object(6)\n",
      "memory usage: 263.4+ KB\n"
     ]
    }
   ],
   "source": [
    "cur_oil_price['기간'] = pd.to_datetime(cur_oil_price['기간'], format='%Y%m%d')\n",
    "cur_oil_price.rename(columns={'기간' : '일자'}, inplace=True)\n",
    "cur_oil_price.info()"
   ]
  },
  {
   "cell_type": "code",
   "execution_count": 41,
   "metadata": {},
   "outputs": [
    {
     "data": {
      "text/html": [
       "<div>\n",
       "<style scoped>\n",
       "    .dataframe tbody tr th:only-of-type {\n",
       "        vertical-align: middle;\n",
       "    }\n",
       "\n",
       "    .dataframe tbody tr th {\n",
       "        vertical-align: top;\n",
       "    }\n",
       "\n",
       "    .dataframe thead th {\n",
       "        text-align: right;\n",
       "    }\n",
       "</style>\n",
       "<table border=\"1\" class=\"dataframe\">\n",
       "  <thead>\n",
       "    <tr style=\"text-align: right;\">\n",
       "      <th></th>\n",
       "      <th>실제 휘발유값</th>\n",
       "    </tr>\n",
       "    <tr>\n",
       "      <th>일자</th>\n",
       "      <th></th>\n",
       "    </tr>\n",
       "  </thead>\n",
       "  <tbody>\n",
       "    <tr>\n",
       "      <th>2022-08-10</th>\n",
       "      <td>1788.0</td>\n",
       "    </tr>\n",
       "    <tr>\n",
       "      <th>2022-08-11</th>\n",
       "      <td>1777.0</td>\n",
       "    </tr>\n",
       "    <tr>\n",
       "      <th>2022-08-12</th>\n",
       "      <td>1770.0</td>\n",
       "    </tr>\n",
       "    <tr>\n",
       "      <th>2022-08-13</th>\n",
       "      <td>1762.0</td>\n",
       "    </tr>\n",
       "    <tr>\n",
       "      <th>2022-08-14</th>\n",
       "      <td>1760.0</td>\n",
       "    </tr>\n",
       "    <tr>\n",
       "      <th>2022-08-15</th>\n",
       "      <td>1755.0</td>\n",
       "    </tr>\n",
       "    <tr>\n",
       "      <th>2022-08-16</th>\n",
       "      <td>1749.0</td>\n",
       "    </tr>\n",
       "    <tr>\n",
       "      <th>2022-08-17</th>\n",
       "      <td>1739.0</td>\n",
       "    </tr>\n",
       "  </tbody>\n",
       "</table>\n",
       "</div>"
      ],
      "text/plain": [
       "            실제 휘발유값\n",
       "일자                 \n",
       "2022-08-10   1788.0\n",
       "2022-08-11   1777.0\n",
       "2022-08-12   1770.0\n",
       "2022-08-13   1762.0\n",
       "2022-08-14   1760.0\n",
       "2022-08-15   1755.0\n",
       "2022-08-16   1749.0\n",
       "2022-08-17   1739.0"
      ]
     },
     "execution_count": 41,
     "metadata": {},
     "output_type": "execute_result"
    }
   ],
   "source": [
    "cur1_oil_price = cur_oil_price.groupby([\"일자\"])['휘발유'].mean().round().to_frame()\n",
    "cur1_oil_price = cur1_oil_price.rename(columns={'휘발유':'실제 휘발유값'})\n",
    "cur1_oil_price"
   ]
  },
  {
   "cell_type": "code",
   "execution_count": 61,
   "metadata": {},
   "outputs": [
    {
     "data": {
      "text/plain": [
       "<AxesSubplot:title={'center':'휘발유가격 예측'}, xlabel='일자', ylabel='휘발유'>"
      ]
     },
     "execution_count": 61,
     "metadata": {},
     "output_type": "execute_result"
    },
    {
     "data": {
      "image/png": "[encoded data removed]",
      "text/plain": [
       "<Figure size 1080x360 with 1 Axes>"
      ]
     },
     "metadata": {
      "needs_background": "light"
     },
     "output_type": "display_data"
    }
   ],
   "source": [
    "# Auto-ARIMA 돌리기 - 계측값이 일별이면 m=1, 월별이면 m=12, 주별이면 m=52, \n",
    "# 계절성이 있는 데이터면 seasonal=True 로 바꿔야함. 알아서 d 값을 찾아줌.\n",
    "auto_arima_model = pm.auto_arima(gasolin_price, seasonal=False, m=1)\n",
    "\n",
    "# 모델 예측\n",
    "fcast2 = auto_arima_model.predict(9) \n",
    "fcast2 = pd.Series(fcast2, index=index_9_days)\n",
    "fcast2 = fcast2.rename(\"예측 휘발유값\")\n",
    "\n",
    "# 예측값 시각화\n",
    "fig, ax = plt.subplots(figsize=(15,5))\n",
    "chart = sns.lineplot(x='일자', y='휘발유', data = gasolin_price)\n",
    "chart.set_title('휘발유가격 예측')\n",
    "cur1_oil_price.plot(ax=ax, color='green', marker=\"o\", legend=True)\n",
    "fcast2.plot(ax=ax, color='red', marker=\"o\", legend=True)\n",
    "gasolin_price.plot(ax=ax, color='blue', marker=\"o\", legend=True)"
   ]
  },
  {
   "cell_type": "code",
   "execution_count": 43,
   "metadata": {},
   "outputs": [
    {
     "data": {
      "text/html": [
       "<div>\n",
       "<style scoped>\n",
       "    .dataframe tbody tr th:only-of-type {\n",
       "        vertical-align: middle;\n",
       "    }\n",
       "\n",
       "    .dataframe tbody tr th {\n",
       "        vertical-align: top;\n",
       "    }\n",
       "\n",
       "    .dataframe thead th {\n",
       "        text-align: right;\n",
       "    }\n",
       "</style>\n",
       "<table border=\"1\" class=\"dataframe\">\n",
       "  <thead>\n",
       "    <tr style=\"text-align: right;\">\n",
       "      <th></th>\n",
       "      <th>예측 휘발유값</th>\n",
       "    </tr>\n",
       "  </thead>\n",
       "  <tbody>\n",
       "    <tr>\n",
       "      <th>2022-08-09</th>\n",
       "      <td>1795.719734</td>\n",
       "    </tr>\n",
       "    <tr>\n",
       "      <th>2022-08-10</th>\n",
       "      <td>1787.932412</td>\n",
       "    </tr>\n",
       "    <tr>\n",
       "      <th>2022-08-11</th>\n",
       "      <td>1780.145090</td>\n",
       "    </tr>\n",
       "    <tr>\n",
       "      <th>2022-08-12</th>\n",
       "      <td>1772.357769</td>\n",
       "    </tr>\n",
       "    <tr>\n",
       "      <th>2022-08-13</th>\n",
       "      <td>1764.570447</td>\n",
       "    </tr>\n",
       "    <tr>\n",
       "      <th>2022-08-14</th>\n",
       "      <td>1756.783126</td>\n",
       "    </tr>\n",
       "    <tr>\n",
       "      <th>2022-08-15</th>\n",
       "      <td>1748.995804</td>\n",
       "    </tr>\n",
       "    <tr>\n",
       "      <th>2022-08-16</th>\n",
       "      <td>1741.208482</td>\n",
       "    </tr>\n",
       "    <tr>\n",
       "      <th>2022-08-17</th>\n",
       "      <td>1733.421161</td>\n",
       "    </tr>\n",
       "  </tbody>\n",
       "</table>\n",
       "</div>"
      ],
      "text/plain": [
       "                예측 휘발유값\n",
       "2022-08-09  1795.719734\n",
       "2022-08-10  1787.932412\n",
       "2022-08-11  1780.145090\n",
       "2022-08-12  1772.357769\n",
       "2022-08-13  1764.570447\n",
       "2022-08-14  1756.783126\n",
       "2022-08-15  1748.995804\n",
       "2022-08-16  1741.208482\n",
       "2022-08-17  1733.421161"
      ]
     },
     "execution_count": 43,
     "metadata": {},
     "output_type": "execute_result"
    }
   ],
   "source": [
    "prd1_oil_price = pd.DataFrame(fcast2)\n",
    "prd1_oil_price"
   ]
  },
  {
   "cell_type": "code",
   "execution_count": 44,
   "metadata": {},
   "outputs": [
    {
     "data": {
      "text/html": [
       "<div>\n",
       "<style scoped>\n",
       "    .dataframe tbody tr th:only-of-type {\n",
       "        vertical-align: middle;\n",
       "    }\n",
       "\n",
       "    .dataframe tbody tr th {\n",
       "        vertical-align: top;\n",
       "    }\n",
       "\n",
       "    .dataframe thead th {\n",
       "        text-align: right;\n",
       "    }\n",
       "</style>\n",
       "<table border=\"1\" class=\"dataframe\">\n",
       "  <thead>\n",
       "    <tr style=\"text-align: right;\">\n",
       "      <th></th>\n",
       "      <th>실제 휘발유값</th>\n",
       "      <th>예측 휘발유값</th>\n",
       "    </tr>\n",
       "  </thead>\n",
       "  <tbody>\n",
       "    <tr>\n",
       "      <th>2022-08-10</th>\n",
       "      <td>1788.0</td>\n",
       "      <td>1787.932412</td>\n",
       "    </tr>\n",
       "    <tr>\n",
       "      <th>2022-08-11</th>\n",
       "      <td>1777.0</td>\n",
       "      <td>1780.145090</td>\n",
       "    </tr>\n",
       "    <tr>\n",
       "      <th>2022-08-12</th>\n",
       "      <td>1770.0</td>\n",
       "      <td>1772.357769</td>\n",
       "    </tr>\n",
       "    <tr>\n",
       "      <th>2022-08-13</th>\n",
       "      <td>1762.0</td>\n",
       "      <td>1764.570447</td>\n",
       "    </tr>\n",
       "    <tr>\n",
       "      <th>2022-08-14</th>\n",
       "      <td>1760.0</td>\n",
       "      <td>1756.783126</td>\n",
       "    </tr>\n",
       "    <tr>\n",
       "      <th>2022-08-15</th>\n",
       "      <td>1755.0</td>\n",
       "      <td>1748.995804</td>\n",
       "    </tr>\n",
       "    <tr>\n",
       "      <th>2022-08-16</th>\n",
       "      <td>1749.0</td>\n",
       "      <td>1741.208482</td>\n",
       "    </tr>\n",
       "    <tr>\n",
       "      <th>2022-08-17</th>\n",
       "      <td>1739.0</td>\n",
       "      <td>1733.421161</td>\n",
       "    </tr>\n",
       "  </tbody>\n",
       "</table>\n",
       "</div>"
      ],
      "text/plain": [
       "            실제 휘발유값      예측 휘발유값\n",
       "2022-08-10   1788.0  1787.932412\n",
       "2022-08-11   1777.0  1780.145090\n",
       "2022-08-12   1770.0  1772.357769\n",
       "2022-08-13   1762.0  1764.570447\n",
       "2022-08-14   1760.0  1756.783126\n",
       "2022-08-15   1755.0  1748.995804\n",
       "2022-08-16   1749.0  1741.208482\n",
       "2022-08-17   1739.0  1733.421161"
      ]
     },
     "execution_count": 44,
     "metadata": {},
     "output_type": "execute_result"
    }
   ],
   "source": [
    "pd.merge(cur1_oil_price, prd1_oil_price, how='inner', left_index=True, right_index=True)"
   ]
  },
  {
   "cell_type": "markdown",
   "metadata": {},
   "source": [
    "#### 경유 값 예측하기"
   ]
  },
  {
   "cell_type": "code",
   "execution_count": 45,
   "metadata": {},
   "outputs": [
    {
     "data": {
      "text/html": [
       "<div>\n",
       "<style scoped>\n",
       "    .dataframe tbody tr th:only-of-type {\n",
       "        vertical-align: middle;\n",
       "    }\n",
       "\n",
       "    .dataframe tbody tr th {\n",
       "        vertical-align: top;\n",
       "    }\n",
       "\n",
       "    .dataframe thead th {\n",
       "        text-align: right;\n",
       "    }\n",
       "</style>\n",
       "<table border=\"1\" class=\"dataframe\">\n",
       "  <thead>\n",
       "    <tr style=\"text-align: right;\">\n",
       "      <th></th>\n",
       "      <th>일자</th>\n",
       "      <th>경유</th>\n",
       "    </tr>\n",
       "  </thead>\n",
       "  <tbody>\n",
       "    <tr>\n",
       "      <th>0</th>\n",
       "      <td>2022-02-14</td>\n",
       "      <td>1513.2</td>\n",
       "    </tr>\n",
       "    <tr>\n",
       "      <th>1</th>\n",
       "      <td>2022-02-15</td>\n",
       "      <td>1517.1</td>\n",
       "    </tr>\n",
       "    <tr>\n",
       "      <th>2</th>\n",
       "      <td>2022-02-16</td>\n",
       "      <td>1522.9</td>\n",
       "    </tr>\n",
       "    <tr>\n",
       "      <th>3</th>\n",
       "      <td>2022-02-17</td>\n",
       "      <td>1529.0</td>\n",
       "    </tr>\n",
       "    <tr>\n",
       "      <th>4</th>\n",
       "      <td>2022-02-18</td>\n",
       "      <td>1532.2</td>\n",
       "    </tr>\n",
       "    <tr>\n",
       "      <th>...</th>\n",
       "      <td>...</td>\n",
       "      <td>...</td>\n",
       "    </tr>\n",
       "    <tr>\n",
       "      <th>172</th>\n",
       "      <td>2022-08-05</td>\n",
       "      <td>1923.1</td>\n",
       "    </tr>\n",
       "    <tr>\n",
       "      <th>173</th>\n",
       "      <td>2022-08-06</td>\n",
       "      <td>1917.6</td>\n",
       "    </tr>\n",
       "    <tr>\n",
       "      <th>174</th>\n",
       "      <td>2022-08-07</td>\n",
       "      <td>1915.7</td>\n",
       "    </tr>\n",
       "    <tr>\n",
       "      <th>175</th>\n",
       "      <td>2022-08-08</td>\n",
       "      <td>1905.8</td>\n",
       "    </tr>\n",
       "    <tr>\n",
       "      <th>176</th>\n",
       "      <td>2022-08-09</td>\n",
       "      <td>1896.7</td>\n",
       "    </tr>\n",
       "  </tbody>\n",
       "</table>\n",
       "<p>177 rows × 2 columns</p>\n",
       "</div>"
      ],
      "text/plain": [
       "            일자      경유\n",
       "0   2022-02-14  1513.2\n",
       "1   2022-02-15  1517.1\n",
       "2   2022-02-16  1522.9\n",
       "3   2022-02-17  1529.0\n",
       "4   2022-02-18  1532.2\n",
       "..         ...     ...\n",
       "172 2022-08-05  1923.1\n",
       "173 2022-08-06  1917.6\n",
       "174 2022-08-07  1915.7\n",
       "175 2022-08-08  1905.8\n",
       "176 2022-08-09  1896.7\n",
       "\n",
       "[177 rows x 2 columns]"
      ]
     },
     "execution_count": 45,
     "metadata": {},
     "output_type": "execute_result"
    }
   ],
   "source": [
    "disel_price = oil_price[['일자', '경유']]\n",
    "disel_price"
   ]
  },
  {
   "cell_type": "code",
   "execution_count": 46,
   "metadata": {},
   "outputs": [
    {
     "data": {
      "text/html": [
       "<div>\n",
       "<style scoped>\n",
       "    .dataframe tbody tr th:only-of-type {\n",
       "        vertical-align: middle;\n",
       "    }\n",
       "\n",
       "    .dataframe tbody tr th {\n",
       "        vertical-align: top;\n",
       "    }\n",
       "\n",
       "    .dataframe thead th {\n",
       "        text-align: right;\n",
       "    }\n",
       "</style>\n",
       "<table border=\"1\" class=\"dataframe\">\n",
       "  <thead>\n",
       "    <tr style=\"text-align: right;\">\n",
       "      <th></th>\n",
       "      <th>경유</th>\n",
       "    </tr>\n",
       "    <tr>\n",
       "      <th>일자</th>\n",
       "      <th></th>\n",
       "    </tr>\n",
       "  </thead>\n",
       "  <tbody>\n",
       "    <tr>\n",
       "      <th>2022-02-14</th>\n",
       "      <td>1513.2</td>\n",
       "    </tr>\n",
       "    <tr>\n",
       "      <th>2022-02-15</th>\n",
       "      <td>1517.1</td>\n",
       "    </tr>\n",
       "    <tr>\n",
       "      <th>2022-02-16</th>\n",
       "      <td>1522.9</td>\n",
       "    </tr>\n",
       "    <tr>\n",
       "      <th>2022-02-17</th>\n",
       "      <td>1529.0</td>\n",
       "    </tr>\n",
       "    <tr>\n",
       "      <th>2022-02-18</th>\n",
       "      <td>1532.2</td>\n",
       "    </tr>\n",
       "    <tr>\n",
       "      <th>...</th>\n",
       "      <td>...</td>\n",
       "    </tr>\n",
       "    <tr>\n",
       "      <th>2022-08-05</th>\n",
       "      <td>1923.1</td>\n",
       "    </tr>\n",
       "    <tr>\n",
       "      <th>2022-08-06</th>\n",
       "      <td>1917.6</td>\n",
       "    </tr>\n",
       "    <tr>\n",
       "      <th>2022-08-07</th>\n",
       "      <td>1915.7</td>\n",
       "    </tr>\n",
       "    <tr>\n",
       "      <th>2022-08-08</th>\n",
       "      <td>1905.8</td>\n",
       "    </tr>\n",
       "    <tr>\n",
       "      <th>2022-08-09</th>\n",
       "      <td>1896.7</td>\n",
       "    </tr>\n",
       "  </tbody>\n",
       "</table>\n",
       "<p>177 rows × 1 columns</p>\n",
       "</div>"
      ],
      "text/plain": [
       "                경유\n",
       "일자                \n",
       "2022-02-14  1513.2\n",
       "2022-02-15  1517.1\n",
       "2022-02-16  1522.9\n",
       "2022-02-17  1529.0\n",
       "2022-02-18  1532.2\n",
       "...            ...\n",
       "2022-08-05  1923.1\n",
       "2022-08-06  1917.6\n",
       "2022-08-07  1915.7\n",
       "2022-08-08  1905.8\n",
       "2022-08-09  1896.7\n",
       "\n",
       "[177 rows x 1 columns]"
      ]
     },
     "execution_count": 46,
     "metadata": {},
     "output_type": "execute_result"
    }
   ],
   "source": [
    "disel_price.set_index('일자', inplace=True)\n",
    "disel_price"
   ]
  },
  {
   "cell_type": "code",
   "execution_count": 47,
   "metadata": {},
   "outputs": [
    {
     "name": "stderr",
     "output_type": "stream",
     "text": [
      "No artists with labels found to put in legend.  Note that artists whose label start with an underscore are ignored when legend() is called with no argument.\n"
     ]
    },
    {
     "data": {
      "image/png": "[encoded data removed]",
      "text/plain": [
       "<Figure size 720x360 with 1 Axes>"
      ]
     },
     "metadata": {
      "needs_background": "light"
     },
     "output_type": "display_data"
    }
   ],
   "source": [
    "plt.figure(figsize=(10,5))\n",
    "plt.plot(disel_price)\n",
    "plt.xlabel('일자')\n",
    "plt.ylabel('가격')\n",
    "plt.title('경유 가격')\n",
    "plt.legend()\n",
    "plt.show()"
   ]
  },
  {
   "cell_type": "code",
   "execution_count": 48,
   "metadata": {},
   "outputs": [
    {
     "data": {
      "text/plain": [
       "Timestamp('2022-08-09 00:00:00')"
      ]
     },
     "execution_count": 48,
     "metadata": {},
     "output_type": "execute_result"
    }
   ],
   "source": [
    "disel_price.index[-1]"
   ]
  },
  {
   "cell_type": "code",
   "execution_count": 49,
   "metadata": {},
   "outputs": [
    {
     "data": {
      "text/plain": [
       "DatetimeIndex(['2022-08-09', '2022-08-10', '2022-08-11', '2022-08-12',\n",
       "               '2022-08-13', '2022-08-14', '2022-08-15', '2022-08-16',\n",
       "               '2022-08-17'],\n",
       "              dtype='datetime64[ns]', freq='D')"
      ]
     },
     "execution_count": 49,
     "metadata": {},
     "output_type": "execute_result"
    }
   ],
   "source": [
    "# 9일 값 예측 날짜 인덱스 df 만들기\n",
    "index_9_days = pd.date_range(disel_price.index[-1], freq='D', periods=9, tz=None)\n",
    "index_9_days"
   ]
  },
  {
   "cell_type": "code",
   "execution_count": 50,
   "metadata": {},
   "outputs": [
    {
     "data": {
      "text/html": [
       "<div>\n",
       "<style scoped>\n",
       "    .dataframe tbody tr th:only-of-type {\n",
       "        vertical-align: middle;\n",
       "    }\n",
       "\n",
       "    .dataframe tbody tr th {\n",
       "        vertical-align: top;\n",
       "    }\n",
       "\n",
       "    .dataframe thead th {\n",
       "        text-align: right;\n",
       "    }\n",
       "</style>\n",
       "<table border=\"1\" class=\"dataframe\">\n",
       "  <thead>\n",
       "    <tr style=\"text-align: right;\">\n",
       "      <th></th>\n",
       "      <th>실제 경유값</th>\n",
       "    </tr>\n",
       "    <tr>\n",
       "      <th>일자</th>\n",
       "      <th></th>\n",
       "    </tr>\n",
       "  </thead>\n",
       "  <tbody>\n",
       "    <tr>\n",
       "      <th>2022-08-10</th>\n",
       "      <td>1887.0</td>\n",
       "    </tr>\n",
       "    <tr>\n",
       "      <th>2022-08-11</th>\n",
       "      <td>1878.0</td>\n",
       "    </tr>\n",
       "    <tr>\n",
       "      <th>2022-08-12</th>\n",
       "      <td>1870.0</td>\n",
       "    </tr>\n",
       "    <tr>\n",
       "      <th>2022-08-13</th>\n",
       "      <td>1865.0</td>\n",
       "    </tr>\n",
       "    <tr>\n",
       "      <th>2022-08-14</th>\n",
       "      <td>1862.0</td>\n",
       "    </tr>\n",
       "    <tr>\n",
       "      <th>2022-08-15</th>\n",
       "      <td>1858.0</td>\n",
       "    </tr>\n",
       "    <tr>\n",
       "      <th>2022-08-16</th>\n",
       "      <td>1852.0</td>\n",
       "    </tr>\n",
       "    <tr>\n",
       "      <th>2022-08-17</th>\n",
       "      <td>1841.0</td>\n",
       "    </tr>\n",
       "  </tbody>\n",
       "</table>\n",
       "</div>"
      ],
      "text/plain": [
       "            실제 경유값\n",
       "일자                \n",
       "2022-08-10  1887.0\n",
       "2022-08-11  1878.0\n",
       "2022-08-12  1870.0\n",
       "2022-08-13  1865.0\n",
       "2022-08-14  1862.0\n",
       "2022-08-15  1858.0\n",
       "2022-08-16  1852.0\n",
       "2022-08-17  1841.0"
      ]
     },
     "execution_count": 50,
     "metadata": {},
     "output_type": "execute_result"
    }
   ],
   "source": [
    "cur2_oil_price = cur_oil_price.groupby([\"일자\"])['경유'].mean().round().to_frame()\n",
    "cur2_oil_price = cur2_oil_price.rename(columns={'경유' : '실제 경유값'})\n",
    "cur2_oil_price"
   ]
  },
  {
   "cell_type": "code",
   "execution_count": 62,
   "metadata": {},
   "outputs": [
    {
     "data": {
      "text/plain": [
       "<AxesSubplot:title={'center':'경유가격 예측'}, xlabel='일자', ylabel='경유'>"
      ]
     },
     "execution_count": 62,
     "metadata": {},
     "output_type": "execute_result"
    },
    {
     "data": {
      "image/png": "[encoded data removed]",
      "text/plain": [
       "<Figure size 1080x360 with 1 Axes>"
      ]
     },
     "metadata": {
      "needs_background": "light"
     },
     "output_type": "display_data"
    }
   ],
   "source": [
    "# Auto-ARIMA 돌리기 - 계측값이 일별이면 m=1, 월별이면 m=12, 주별이면 m=52, \n",
    "# 계절성이 있는 데이터면 seasonal=True 로 바꿔야함. 알아서 d 값을 찾아줌.\n",
    "from cProfile import label\n",
    "\n",
    "\n",
    "auto_arima_model = pm.auto_arima(disel_price, seasonal=False, m=1)\n",
    "\n",
    "# 모델 예측\n",
    "fcast2 = auto_arima_model.predict(9) \n",
    "fcast2 = pd.Series(fcast2, index=index_9_days)\n",
    "fcast2 = fcast2.rename('예측 경유값')\n",
    "\n",
    "# 예측값 시각화\n",
    "fig, ax = plt.subplots(figsize=(15,5))\n",
    "chart = sns.lineplot(x='일자', y='경유', data = disel_price)\n",
    "chart.set_title('경유가격 예측')\n",
    "cur2_oil_price.plot(ax=ax, color='green', marker=\"o\", legend=True)\n",
    "fcast2.plot(ax=ax, color='red', marker=\"o\", legend=True)\n",
    "disel_price.plot(ax=ax, color='blue', marker=\"o\", legend=True)"
   ]
  },
  {
   "cell_type": "code",
   "execution_count": 52,
   "metadata": {},
   "outputs": [
    {
     "data": {
      "text/html": [
       "<div>\n",
       "<style scoped>\n",
       "    .dataframe tbody tr th:only-of-type {\n",
       "        vertical-align: middle;\n",
       "    }\n",
       "\n",
       "    .dataframe tbody tr th {\n",
       "        vertical-align: top;\n",
       "    }\n",
       "\n",
       "    .dataframe thead th {\n",
       "        text-align: right;\n",
       "    }\n",
       "</style>\n",
       "<table border=\"1\" class=\"dataframe\">\n",
       "  <thead>\n",
       "    <tr style=\"text-align: right;\">\n",
       "      <th></th>\n",
       "      <th>예측 경유값</th>\n",
       "    </tr>\n",
       "  </thead>\n",
       "  <tbody>\n",
       "    <tr>\n",
       "      <th>2022-08-09</th>\n",
       "      <td>1890.832321</td>\n",
       "    </tr>\n",
       "    <tr>\n",
       "      <th>2022-08-10</th>\n",
       "      <td>1884.207087</td>\n",
       "    </tr>\n",
       "    <tr>\n",
       "      <th>2022-08-11</th>\n",
       "      <td>1877.581853</td>\n",
       "    </tr>\n",
       "    <tr>\n",
       "      <th>2022-08-12</th>\n",
       "      <td>1870.956620</td>\n",
       "    </tr>\n",
       "    <tr>\n",
       "      <th>2022-08-13</th>\n",
       "      <td>1864.331386</td>\n",
       "    </tr>\n",
       "    <tr>\n",
       "      <th>2022-08-14</th>\n",
       "      <td>1857.706152</td>\n",
       "    </tr>\n",
       "    <tr>\n",
       "      <th>2022-08-15</th>\n",
       "      <td>1851.080919</td>\n",
       "    </tr>\n",
       "    <tr>\n",
       "      <th>2022-08-16</th>\n",
       "      <td>1844.455685</td>\n",
       "    </tr>\n",
       "    <tr>\n",
       "      <th>2022-08-17</th>\n",
       "      <td>1837.830452</td>\n",
       "    </tr>\n",
       "  </tbody>\n",
       "</table>\n",
       "</div>"
      ],
      "text/plain": [
       "                 예측 경유값\n",
       "2022-08-09  1890.832321\n",
       "2022-08-10  1884.207087\n",
       "2022-08-11  1877.581853\n",
       "2022-08-12  1870.956620\n",
       "2022-08-13  1864.331386\n",
       "2022-08-14  1857.706152\n",
       "2022-08-15  1851.080919\n",
       "2022-08-16  1844.455685\n",
       "2022-08-17  1837.830452"
      ]
     },
     "execution_count": 52,
     "metadata": {},
     "output_type": "execute_result"
    }
   ],
   "source": [
    "prd2_oil_price = pd.DataFrame(fcast2)\n",
    "prd2_oil_price"
   ]
  },
  {
   "cell_type": "code",
   "execution_count": 53,
   "metadata": {},
   "outputs": [
    {
     "data": {
      "text/html": [
       "<div>\n",
       "<style scoped>\n",
       "    .dataframe tbody tr th:only-of-type {\n",
       "        vertical-align: middle;\n",
       "    }\n",
       "\n",
       "    .dataframe tbody tr th {\n",
       "        vertical-align: top;\n",
       "    }\n",
       "\n",
       "    .dataframe thead th {\n",
       "        text-align: right;\n",
       "    }\n",
       "</style>\n",
       "<table border=\"1\" class=\"dataframe\">\n",
       "  <thead>\n",
       "    <tr style=\"text-align: right;\">\n",
       "      <th></th>\n",
       "      <th>실제 경유값</th>\n",
       "      <th>예측 경유값</th>\n",
       "    </tr>\n",
       "  </thead>\n",
       "  <tbody>\n",
       "    <tr>\n",
       "      <th>2022-08-10</th>\n",
       "      <td>1887.0</td>\n",
       "      <td>1884.207087</td>\n",
       "    </tr>\n",
       "    <tr>\n",
       "      <th>2022-08-11</th>\n",
       "      <td>1878.0</td>\n",
       "      <td>1877.581853</td>\n",
       "    </tr>\n",
       "    <tr>\n",
       "      <th>2022-08-12</th>\n",
       "      <td>1870.0</td>\n",
       "      <td>1870.956620</td>\n",
       "    </tr>\n",
       "    <tr>\n",
       "      <th>2022-08-13</th>\n",
       "      <td>1865.0</td>\n",
       "      <td>1864.331386</td>\n",
       "    </tr>\n",
       "    <tr>\n",
       "      <th>2022-08-14</th>\n",
       "      <td>1862.0</td>\n",
       "      <td>1857.706152</td>\n",
       "    </tr>\n",
       "    <tr>\n",
       "      <th>2022-08-15</th>\n",
       "      <td>1858.0</td>\n",
       "      <td>1851.080919</td>\n",
       "    </tr>\n",
       "    <tr>\n",
       "      <th>2022-08-16</th>\n",
       "      <td>1852.0</td>\n",
       "      <td>1844.455685</td>\n",
       "    </tr>\n",
       "    <tr>\n",
       "      <th>2022-08-17</th>\n",
       "      <td>1841.0</td>\n",
       "      <td>1837.830452</td>\n",
       "    </tr>\n",
       "  </tbody>\n",
       "</table>\n",
       "</div>"
      ],
      "text/plain": [
       "            실제 경유값       예측 경유값\n",
       "2022-08-10  1887.0  1884.207087\n",
       "2022-08-11  1878.0  1877.581853\n",
       "2022-08-12  1870.0  1870.956620\n",
       "2022-08-13  1865.0  1864.331386\n",
       "2022-08-14  1862.0  1857.706152\n",
       "2022-08-15  1858.0  1851.080919\n",
       "2022-08-16  1852.0  1844.455685\n",
       "2022-08-17  1841.0  1837.830452"
      ]
     },
     "execution_count": 53,
     "metadata": {},
     "output_type": "execute_result"
    }
   ],
   "source": [
    "pd.merge(cur2_oil_price, prd2_oil_price, how='inner', left_index=True, right_index=True)"
   ]
  }
 ],
 "metadata": {
  "kernelspec": {
   "display_name": "Python 3.10.6 64-bit (windows store)",
   "language": "python",
   "name": "python3"
  },
  "language_info": {
   "codemirror_mode": {
    "name": "ipython",
    "version": 3
   },
   "file_extension": ".py",
   "mimetype": "text/x-python",
   "name": "python",
   "nbconvert_exporter": "python",
   "pygments_lexer": "ipython3",
   "version": "3.10.6"
  },
  "orig_nbformat": 4,
  "vscode": {
   "interpreter": {
    "hash": "8bf0d51478355d2251941b3b98616086516a0eddd7c72ee47a3371765770709a"
   }
  }
 },
 "nbformat": 4,
 "nbformat_minor": 2
}
